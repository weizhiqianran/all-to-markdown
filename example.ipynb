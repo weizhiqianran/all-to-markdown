{
 "cells": [
  {
   "cell_type": "markdown",
   "metadata": {},
   "source": [
    "## 需要安装的系统包\n",
    "\n",
    "sudo apt update   \n",
    "sudo apt install libmagic-dev poppler-utils tesseract-ocr libreoffice   \n",
    "sudo apt install tesseract-ocr-chi-sim   \n",
    "sudo apt install tesseract-ocr-chi-tra   \n"
   ]
  },
  {
   "cell_type": "code",
   "execution_count": null,
   "metadata": {},
   "outputs": [],
   "source": []
  }
 ],
 "metadata": {
  "language_info": {
   "name": "python"
  }
 },
 "nbformat": 4,
 "nbformat_minor": 2
}
